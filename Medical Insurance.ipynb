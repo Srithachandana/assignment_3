{
 "cells": [
  {
   "cell_type": "code",
   "execution_count": 2,
   "id": "731a620c-0702-4504-91e4-b1b23bb6ae67",
   "metadata": {},
   "outputs": [],
   "source": [
    "import pandas as pd\n",
    "from sklearn.preprocessing import StandardScaler"
   ]
  },
  {
   "cell_type": "code",
   "execution_count": 3,
   "id": "7f43a3f2-6608-4bb7-ae7f-c9b29a57569c",
   "metadata": {},
   "outputs": [],
   "source": [
    "##load data \n",
    "\n",
    "data = pd.read_csv(r\"C:\\Users\\uniq\\Downloads\\medical_insurance.csv\")"
   ]
  },
  {
   "cell_type": "code",
   "execution_count": 4,
   "id": "d0006c07-19e2-495b-804b-1ceb0f389362",
   "metadata": {},
   "outputs": [
    {
     "name": "stdout",
     "output_type": "stream",
     "text": [
      "Missing values:\n",
      " age         0\n",
      "sex         0\n",
      "bmi         0\n",
      "children    0\n",
      "smoker      0\n",
      "region      0\n",
      "charges     0\n",
      "dtype: int64\n",
      "Duplicates: 1435\n",
      "\n",
      "Preprocessed Data:\n",
      "         age       bmi  children   charges  sex_male  smoker_yes  \\\n",
      "0 -1.428353 -0.457114 -0.907084  0.298245     False        True   \n",
      "1 -1.499381  0.500731 -0.083758 -0.949483      True       False   \n",
      "2 -0.789099  0.375085  1.562893 -0.725285      True       False   \n",
      "3 -0.433959 -1.304814 -0.907084  0.717976      True       False   \n",
      "4 -0.504987 -0.297201 -0.907084 -0.773238      True       False   \n",
      "\n",
      "   region_northwest  region_southeast  region_southwest bmi_category  \n",
      "0             False             False              True   Overweight  \n",
      "1             False              True             False        Obese  \n",
      "2             False              True             False        Obese  \n",
      "3              True             False             False       Normal  \n",
      "4              True             False             False   Overweight  \n"
     ]
    }
   ],
   "source": [
    "df = pd.DataFrame(data)\n",
    "\n",
    "# Check for missing values and duplicates\n",
    "print(\"Missing values:\\n\", df.isnull().sum())\n",
    "print(\"Duplicates:\", df.duplicated().sum())\n",
    "\n",
    "# Encode categorical variables\n",
    "df_encoded = pd.get_dummies(df, columns=[\"sex\", \"smoker\", \"region\"], drop_first=True)\n",
    "\n",
    "# Step 4: Feature Engineering - BMI classification\n",
    "def bmi_category(bmi):\n",
    "    if bmi < 18.5:\n",
    "        return \"Underweight\"\n",
    "    elif 18.5 <= bmi < 25:\n",
    "        return \"Normal\"\n",
    "    elif 25 <= bmi < 30:\n",
    "        return \"Overweight\"\n",
    "    else:\n",
    "        return \"Obese\"\n",
    "\n",
    "df_encoded[\"bmi_category\"] = df[\"bmi\"].apply(bmi_category)\n",
    "\n",
    "# Step 5: Scale numerical features\n",
    "scaler = StandardScaler()\n",
    "scaled_cols = [\"age\", \"bmi\", \"children\", \"charges\"]\n",
    "df_encoded[scaled_cols] = scaler.fit_transform(df_encoded[scaled_cols])\n",
    "\n",
    "# Final Preprocessed Dataset\n",
    "print(\"\\nPreprocessed Data:\\n\", df_encoded.head())"
   ]
  },
  {
   "cell_type": "code",
   "execution_count": 6,
   "id": "880eb69c-a39b-444f-90d7-7016c301b353",
   "metadata": {},
   "outputs": [
    {
     "data": {
      "application/vnd.jupyter.widget-view+json": {
       "model_id": "6eeed2ea420548ea81c452acf96d4ff4",
       "version_major": 2,
       "version_minor": 0
      },
      "text/plain": [
       "Downloading artifacts:   0%|          | 0/7 [00:00<?, ?it/s]"
      ]
     },
     "metadata": {},
     "output_type": "display_data"
    },
    {
     "data": {
      "application/vnd.jupyter.widget-view+json": {
       "model_id": "3feea8a8a6f94803a6509f07e70d9139",
       "version_major": 2,
       "version_minor": 0
      },
      "text/plain": [
       "Downloading artifacts:   0%|          | 0/7 [00:00<?, ?it/s]"
      ]
     },
     "metadata": {},
     "output_type": "display_data"
    },
    {
     "data": {
      "application/vnd.jupyter.widget-view+json": {
       "model_id": "1024de49c8b7481fac6eb0ae9b1847bc",
       "version_major": 2,
       "version_minor": 0
      },
      "text/plain": [
       "Downloading artifacts:   0%|          | 0/7 [00:00<?, ?it/s]"
      ]
     },
     "metadata": {},
     "output_type": "display_data"
    },
    {
     "data": {
      "application/vnd.jupyter.widget-view+json": {
       "model_id": "d018ba82df824ef8bf37142b69e51230",
       "version_major": 2,
       "version_minor": 0
      },
      "text/plain": [
       "Downloading artifacts:   0%|          | 0/7 [00:00<?, ?it/s]"
      ]
     },
     "metadata": {},
     "output_type": "display_data"
    },
    {
     "data": {
      "application/vnd.jupyter.widget-view+json": {
       "model_id": "aafc82186d554b26803c0a1a134cccbe",
       "version_major": 2,
       "version_minor": 0
      },
      "text/plain": [
       "Downloading artifacts:   0%|          | 0/7 [00:00<?, ?it/s]"
      ]
     },
     "metadata": {},
     "output_type": "display_data"
    },
    {
     "name": "stdout",
     "output_type": "stream",
     "text": [
      "\n",
      "Run summary (sorted by Test RMSE):\n",
      "      RandomForest | RMSE=3195.62  MAE=1422.95  R2=0.936  run_id=ccdf61dc17a74d1991363297b31d825a\n",
      "  GradientBoosting | RMSE=4477.45  MAE=2324.67  R2=0.874  run_id=104323c4ebe14ec7b8681c312d7eaecf\n",
      "  LinearRegression | RMSE=6440.12  MAE=4288.35  R2=0.740  run_id=562f734a47d64da5a1f32d696bbfae8b\n",
      "             Lasso | RMSE=6440.12  MAE=4288.35  R2=0.740  run_id=4b422afc9ea944158c92fc74e38c9f7f\n",
      "           SVR_RBF | RMSE=12873.98  MAE=7952.46  R2=-0.039  run_id=4fa990d41f7b4bc5814a4bae525c0bc9\n"
     ]
    },
    {
     "name": "stderr",
     "output_type": "stream",
     "text": [
      "Registered model 'MedicalInsuranceRegressor' already exists. Creating a new version of this model...\n",
      "2025/09/24 13:36:35 WARNING mlflow.tracking._model_registry.fluent: Run with id ccdf61dc17a74d1991363297b31d825a has no artifacts at artifact path 'RandomForest', registering model based on models:/m-f2a9c6ad0b784b109de26fa1d7543d24 instead\n"
     ]
    },
    {
     "name": "stdout",
     "output_type": "stream",
     "text": [
      "\n",
      "RandomForest registered as 'MedicalInsuranceRegressor' (version=4).\n"
     ]
    },
    {
     "name": "stderr",
     "output_type": "stream",
     "text": [
      "Created version '4' of model 'MedicalInsuranceRegressor'.\n"
     ]
    },
    {
     "data": {
      "text/plain": [
       "<Figure size 640x480 with 0 Axes>"
      ]
     },
     "metadata": {},
     "output_type": "display_data"
    }
   ],
   "source": [
    "# ============================\n",
    "# Step 2 — Medical Insurance Cost Prediction (EDA + Models + MLflow)\n",
    "# ============================\n",
    "\n",
    "import os, math, warnings, json\n",
    "warnings.filterwarnings(\"ignore\")\n",
    "\n",
    "# --- Optional import of xgboost ---\n",
    "try:\n",
    "    from xgboost import XGBRegressor\n",
    "    XGB_AVAILABLE = True\n",
    "except Exception:\n",
    "    XGB_AVAILABLE = False\n",
    "\n",
    "import mlflow\n",
    "import mlflow.sklearn\n",
    "from mlflow.models import infer_signature\n",
    "\n",
    "import numpy as np\n",
    "import pandas as pd\n",
    "import matplotlib.pyplot as plt\n",
    "\n",
    "from sklearn.model_selection import train_test_split\n",
    "from sklearn.compose import ColumnTransformer\n",
    "from sklearn.preprocessing import OneHotEncoder, StandardScaler\n",
    "from sklearn.pipeline import Pipeline\n",
    "from sklearn.metrics import mean_squared_error, mean_absolute_error, r2_score\n",
    "\n",
    "from sklearn.linear_model import LinearRegression, Lasso\n",
    "from sklearn.ensemble import RandomForestRegressor, GradientBoostingRegressor\n",
    "from sklearn.svm import SVR\n",
    "\n",
    "# === Ensure `df` exists (user should have loaded df earlier) ===\n",
    "# e.g. df = pd.read_csv(\"data/insurance.csv\")\n",
    "# -------------------------------------------------------------\n",
    "\n",
    "# 2) Quick EDA (artifacts saved)\n",
    "# -----------------------------\n",
    "os.makedirs(\"artifacts\", exist_ok=True)\n",
    "\n",
    "# Summary stats\n",
    "df.describe(include=\"all\").to_csv(\"artifacts/summary_stats.csv\")\n",
    "\n",
    "# Numerical correlation heatmap\n",
    "num_cols = [c for c in df.select_dtypes(include=[np.number]).columns if c != \"charges\"] + [\"charges\"]\n",
    "num_cols = [c for c in num_cols if c in df.columns]\n",
    "if len(num_cols) >= 2:\n",
    "    corr = df[num_cols].corr()\n",
    "    plt.figure()\n",
    "    plt.imshow(corr, aspect=\"auto\")\n",
    "    plt.xticks(range(len(num_cols)), num_cols, rotation=45, ha=\"right\")\n",
    "    plt.yticks(range(len(num_cols)), num_cols)\n",
    "    plt.title(\"Correlation heatmap (numerical)\")\n",
    "    plt.colorbar()\n",
    "    plt.tight_layout()\n",
    "    plt.savefig(\"artifacts/corr_heatmap.png\")\n",
    "    plt.close()\n",
    "\n",
    "# Charges by smoker (if exists)\n",
    "if \"smoker\" in df.columns:\n",
    "    plt.figure()\n",
    "    df.boxplot(column=\"charges\", by=\"smoker\")\n",
    "    plt.title(\"Charges by smoker\")\n",
    "    plt.suptitle(\"\")\n",
    "    plt.xlabel(\"Smoker\")\n",
    "    plt.ylabel(\"Charges\")\n",
    "    plt.tight_layout()\n",
    "    plt.savefig(\"artifacts/charges_by_smoker.png\")\n",
    "    plt.close()\n",
    "\n",
    "# Charges vs BMI (if exists)\n",
    "if \"bmi\" in df.columns:\n",
    "    plt.figure()\n",
    "    plt.scatter(df[\"bmi\"], df[\"charges\"])\n",
    "    plt.xlabel(\"BMI\"); plt.ylabel(\"Charges\"); plt.title(\"Charges vs BMI\")\n",
    "    plt.tight_layout()\n",
    "    plt.savefig(\"artifacts/charges_vs_bmi.png\")\n",
    "    plt.close()\n",
    "\n",
    "# Charges vs Age (if exists)\n",
    "if \"age\" in df.columns:\n",
    "    plt.figure()\n",
    "    plt.scatter(df[\"age\"], df[\"charges\"])\n",
    "    plt.xlabel(\"Age\"); plt.ylabel(\"Charges\"); plt.title(\"Charges vs Age\")\n",
    "    plt.tight_layout()\n",
    "    plt.savefig(\"artifacts/charges_vs_age.png\")\n",
    "    plt.close()\n",
    "\n",
    "# -----------------------------\n",
    "# 3) Train/Test split\n",
    "# -----------------------------\n",
    "TARGET = \"charges\"\n",
    "X = df.drop(columns=[TARGET])\n",
    "y = df[TARGET].values\n",
    "\n",
    "X_train, X_test, y_train, y_test = train_test_split(\n",
    "    X, y, test_size=0.25, random_state=42\n",
    ")\n",
    "\n",
    "# -----------------------------\n",
    "# -----------------------------\n",
    "# 4) Preprocessing pipeline\n",
    "# -----------------------------\n",
    "cat_cols = list(X.select_dtypes(include=[\"object\", \"category\"]).columns)\n",
    "num_cols = list(X.select_dtypes(include=[np.number]).columns)\n",
    "\n",
    "# Safe OneHotEncoder (works with sklearn <1.2 and >=1.2)\n",
    "try:\n",
    "    ohe = OneHotEncoder(handle_unknown=\"ignore\", sparse_output=False)  # new versions\n",
    "except TypeError:\n",
    "    ohe = OneHotEncoder(handle_unknown=\"ignore\", sparse=False)        # old versions\n",
    "\n",
    "preprocess = ColumnTransformer(\n",
    "    transformers=[\n",
    "        (\"cat\", ohe, cat_cols),\n",
    "        (\"num\", StandardScaler(), num_cols),\n",
    "    ],\n",
    "    remainder=\"drop\",\n",
    ")\n",
    "\n",
    "# -----------------------------\n",
    "# 5) Models\n",
    "# -----------------------------\n",
    "models = {\n",
    "    \"LinearRegression\": LinearRegression(),\n",
    "    \"Lasso\": Lasso(alpha=0.01, max_iter=10000),\n",
    "    \"RandomForest\": RandomForestRegressor(\n",
    "        n_estimators=400, random_state=42, min_samples_leaf=1\n",
    "    ),\n",
    "    \"GradientBoosting\": GradientBoostingRegressor(random_state=42),\n",
    "    \"SVR_RBF\": SVR(kernel=\"rbf\", C=10.0, epsilon=0.2),\n",
    "}\n",
    "if XGB_AVAILABLE:\n",
    "    models[\"XGBoost\"] = XGBRegressor(\n",
    "        n_estimators=500,\n",
    "        learning_rate=0.05,\n",
    "        max_depth=3,\n",
    "        subsample=0.9,\n",
    "        colsample_bytree=0.9,\n",
    "        reg_lambda=1.0,\n",
    "        objective=\"reg:squarederror\",\n",
    "        random_state=42,\n",
    "    )\n",
    "\n",
    "# -----------------------------\n",
    "# 6) MLflow setup\n",
    "# -----------------------------\n",
    "mlflow.set_tracking_uri(\"mlruns\")  # local folder tracking (change if you have a server)\n",
    "experiment_name = \"Medical_Insurance_Cost_Regression\"\n",
    "mlflow.set_experiment(experiment_name)\n",
    "\n",
    "def eval_metrics(y_true, y_pred):\n",
    "    rmse = math.sqrt(mean_squared_error(y_true, y_pred))\n",
    "    mae = mean_absolute_error(y_true, y_pred)\n",
    "    r2 = r2_score(y_true, y_pred)\n",
    "    return rmse, mae, r2\n",
    "\n",
    "run_records = []\n",
    "\n",
    "# -----------------------------\n",
    "# 7) Train, evaluate, and log\n",
    "# -----------------------------\n",
    "for name, estimator in models.items():\n",
    "    with mlflow.start_run(run_name=name) as run:\n",
    "        # Build pipeline\n",
    "        pipe = Pipeline([(\"prep\", preprocess), (\"model\", estimator)])\n",
    "        pipe.fit(X_train, y_train)\n",
    "\n",
    "        # Predictions\n",
    "        y_pred_tr = pipe.predict(X_train)\n",
    "        y_pred_te = pipe.predict(X_test)\n",
    "\n",
    "        # Metrics\n",
    "        tr_rmse, tr_mae, tr_r2 = eval_metrics(y_train, y_pred_tr)\n",
    "        te_rmse, te_mae, te_r2 = eval_metrics(y_test, y_pred_te)\n",
    "\n",
    "        # Log params (from estimator)\n",
    "        try:\n",
    "            params = pipe.named_steps[\"model\"].get_params()\n",
    "            params = {k: v for k, v in params.items()\n",
    "                      if isinstance(v, (int, float, str, bool, type(None)))}\n",
    "            mlflow.log_params(params)\n",
    "        except Exception:\n",
    "            pass\n",
    "\n",
    "        # Log metrics\n",
    "        mlflow.log_metrics({\n",
    "            \"train_rmse\": tr_rmse, \"train_mae\": tr_mae, \"train_r2\": tr_r2,\n",
    "            \"test_rmse\": te_rmse,  \"test_mae\": te_mae,  \"test_r2\": te_r2\n",
    "        })\n",
    "\n",
    "        # Log EDA artifacts (once per run is fine)\n",
    "        for p in [\"artifacts/summary_stats.csv\",\n",
    "                  \"artifacts/corr_heatmap.png\",\n",
    "                  \"artifacts/charges_by_smoker.png\",\n",
    "                  \"artifacts/charges_vs_bmi.png\",\n",
    "                  \"artifacts/charges_vs_age.png\"]:\n",
    "            if os.path.exists(p):\n",
    "                mlflow.log_artifact(p)\n",
    "\n",
    "        # Model signature + input example\n",
    "        try:\n",
    "            sig = infer_signature(X_train, pipe.predict(X_train))\n",
    "        except Exception:\n",
    "            sig = None\n",
    "\n",
    "        # ===== Updated call: use `name=` (replaces deprecated `artifact_path=`) =====\n",
    "        # This will name the model artifact inside the run with the model short name\n",
    "        # (e.g., \"RandomForest\"). Use this name when constructing runs:/ URIs below.\n",
    "        mlflow.sklearn.log_model(\n",
    "            sk_model=pipe,\n",
    "            name=name,\n",
    "            signature=sig,\n",
    "            input_example=X_train.head(3)\n",
    "        )\n",
    "\n",
    "        run_records.append({\n",
    "            \"name\": name,\n",
    "            \"run_id\": run.info.run_id,\n",
    "            \"test_rmse\": te_rmse,\n",
    "            \"test_mae\": te_mae,\n",
    "            \"test_r2\": te_r2\n",
    "        })\n",
    "\n",
    "# -----------------------------\n",
    "# 8) Choose RandomForest explicitly & register\n",
    "# -----------------------------\n",
    "rf_record = next(r for r in run_records if r[\"name\"] == \"RandomForest\")\n",
    "rf_run_id, rf_name = rf_record[\"run_id\"], rf_record[\"name\"]\n",
    "\n",
    "print(\"\\nRun summary (sorted by Test RMSE):\")\n",
    "for r in sorted(run_records, key=lambda r: r[\"test_rmse\"]):\n",
    "    print(f\"{r['name']:>18} | RMSE={r['test_rmse']:.2f}  \"\n",
    "          f\"MAE={r['test_mae']:.2f}  R2={r['test_r2']:.3f}  run_id={r['run_id']}\")\n",
    "\n",
    "# Register (works if your tracking server supports a registry backend)\n",
    "model_name = \"MedicalInsuranceRegressor\"\n",
    "\n",
    "# Since models were logged with name=<model_short_name>, we use that short name in the path\n",
    "model_uri = f\"runs:/{rf_run_id}/{rf_name}\"\n",
    "\n",
    "try:\n",
    "    result = mlflow.register_model(model_uri=model_uri, name=model_name)\n",
    "    print(f\"\\nRandomForest registered as '{model_name}' (version={getattr(result, 'version', 'N/A')}).\")\n",
    "except Exception as e:\n",
    "    print(\"\\nModel registry not available in this tracking setup.\")\n",
    "    print(\"RandomForest still logged as an artifact and can be loaded via:\")\n",
    "    print(f\"  mlflow.pyfunc.load_model('{model_uri}')\")\n",
    "    print(f\"Reason: {e}\")\n"
   ]
  },
  {
   "cell_type": "raw",
   "id": "3e36edfc-dc5f-4955-a257-89818d2154b8",
   "metadata": {},
   "source": [
    "visualize the RMSE"
   ]
  },
  {
   "cell_type": "code",
   "execution_count": 7,
   "id": "885d9ec0-df12-4c82-bfca-4c1641589bc5",
   "metadata": {},
   "outputs": [
    {
     "data": {
      "image/png": "[encoded data removed]",
      "text/plain": [
       "<Figure size 800x500 with 1 Axes>"
      ]
     },
     "metadata": {},
     "output_type": "display_data"
    }
   ],
   "source": [
    "import matplotlib.pyplot as plt\n",
    "\n",
    "# Create a bar plot of RMSE by model\n",
    "model_names = [r[\"name\"] for r in run_records]\n",
    "rmse_scores = [r[\"test_rmse\"] for r in run_records]\n",
    "\n",
    "plt.figure(figsize=(8, 5))\n",
    "plt.bar(model_names, rmse_scores, color=\"skyblue\", edgecolor=\"black\")\n",
    "plt.title(\"Test RMSE by Model\")\n",
    "plt.ylabel(\"RMSE\")\n",
    "plt.xlabel(\"Model\")\n",
    "plt.xticks(rotation=45)\n",
    "plt.tight_layout()\n",
    "plt.show()\n"
   ]
  },
  {
   "cell_type": "raw",
   "id": "0fbe3eb9-903a-4e8e-86c4-84865d4440ba",
   "metadata": {},
   "source": [
    "RMSE, MAE, and R-squared."
   ]
  },
  {
   "cell_type": "code",
   "execution_count": 8,
   "id": "acebab56-8a33-4a86-8248-81b746d9df10",
   "metadata": {},
   "outputs": [
    {
     "data": {
      "image/png": "[encoded data removed]",
      "text/plain": [
       "<Figure size 1600x500 with 3 Axes>"
      ]
     },
     "metadata": {},
     "output_type": "display_data"
    }
   ],
   "source": [
    "import matplotlib.pyplot as plt\n",
    "\n",
    "# Extract metrics\n",
    "model_names = [r[\"name\"] for r in run_records]\n",
    "rmse_scores = [r[\"test_rmse\"] for r in run_records]\n",
    "mae_scores = [r[\"test_mae\"] for r in run_records]\n",
    "r2_scores   = [r[\"test_r2\"] for r in run_records]\n",
    "\n",
    "# Create subplots (1 row, 3 columns)\n",
    "fig, axes = plt.subplots(1, 3, figsize=(16, 5))\n",
    "\n",
    "# RMSE plot\n",
    "axes[0].bar(model_names, rmse_scores, color=\"skyblue\", edgecolor=\"black\")\n",
    "axes[0].set_title(\"Test RMSE\")\n",
    "axes[0].set_ylabel(\"RMSE\")\n",
    "axes[0].tick_params(axis=\"x\", rotation=45)\n",
    "\n",
    "# MAE plot\n",
    "axes[1].bar(model_names, mae_scores, color=\"lightgreen\", edgecolor=\"black\")\n",
    "axes[1].set_title(\"Test MAE\")\n",
    "axes[1].set_ylabel(\"MAE\")\n",
    "axes[1].tick_params(axis=\"x\", rotation=45)\n",
    "\n",
    "# R² plot\n",
    "axes[2].bar(model_names, r2_scores, color=\"salmon\", edgecolor=\"black\")\n",
    "axes[2].set_title(\"Test R²\")\n",
    "axes[2].set_ylabel(\"R² Score\")\n",
    "axes[2].tick_params(axis=\"x\", rotation=45)\n",
    "\n",
    "plt.suptitle(\"Model Performance Comparison\", fontsize=14, fontweight=\"bold\")\n",
    "plt.tight_layout()\n",
    "plt.show()\n"
   ]
  },
  {
   "cell_type": "raw",
   "id": "0a7e0bff-6df8-49fa-b363-0e8ebb4ea0a7",
   "metadata": {},
   "source": [
    "ML Flow"
   ]
  },
  {
   "cell_type": "code",
   "execution_count": 14,
   "id": "a3d773d6-ed65-4c65-a188-d5f6b9893e14",
   "metadata": {},
   "outputs": [],
   "source": [
    "from sklearn.compose import ColumnTransformer\n",
    "from sklearn.preprocessing import OneHotEncoder, StandardScaler\n",
    "from sklearn.pipeline import Pipeline\n",
    "from sklearn.linear_model import LinearRegression, Lasso\n",
    "from sklearn.ensemble import RandomForestRegressor, GradientBoostingRegressor\n",
    "from sklearn.svm import SVR\n",
    "\n",
    "# Identify categorical and numeric columns\n",
    "categorical_cols = [\"sex\", \"smoker\", \"region\"]  # adjust based on your dataset\n",
    "numeric_cols = [col for col in X_train.columns if col not in categorical_cols]\n",
    "\n",
    "# Preprocessing: scale numerics, one-hot encode categoricals\n",
    "preprocessor = ColumnTransformer(\n",
    "    transformers=[\n",
    "        (\"num\", StandardScaler(), numeric_cols),\n",
    "        (\"cat\", OneHotEncoder(handle_unknown=\"ignore\"), categorical_cols)\n",
    "    ]\n",
    ")\n",
    "\n",
    "# Define pipelines\n",
    "rf_pipe = Pipeline([\n",
    "    (\"preprocessor\", preprocessor),\n",
    "    (\"model\", RandomForestRegressor(random_state=42))\n",
    "])\n",
    "rf_params = {\"n_estimators\": 200, \"max_depth\": 10, \"random_state\": 42}\n",
    "\n",
    "gb_pipe = Pipeline([\n",
    "    (\"preprocessor\", preprocessor),\n",
    "    (\"model\", GradientBoostingRegressor(random_state=42))\n",
    "])\n",
    "gb_params = {\"n_estimators\": 200, \"learning_rate\": 0.1, \"max_depth\": 3, \"random_state\": 42}\n",
    "\n",
    "lr_pipe = Pipeline([\n",
    "    (\"preprocessor\", preprocessor),\n",
    "    (\"model\", LinearRegression())\n",
    "])\n",
    "lr_params = {}\n",
    "\n",
    "lasso_pipe = Pipeline([\n",
    "    (\"preprocessor\", preprocessor),\n",
    "    (\"model\", Lasso(alpha=0.1, random_state=42))\n",
    "])\n",
    "lasso_params = {\"alpha\": 0.1}\n",
    "\n",
    "svr_pipe = Pipeline([\n",
    "    (\"preprocessor\", preprocessor),\n",
    "    (\"model\", SVR(kernel=\"rbf\", C=100, gamma=0.1))\n",
    "])\n",
    "svr_params = {\"kernel\": \"rbf\", \"C\": 100, \"gamma\": 0.1}\n"
   ]
  },
  {
   "cell_type": "code",
   "execution_count": 2,
   "id": "17176858-94c5-46b6-8d86-6cf37dd055ed",
   "metadata": {},
   "outputs": [
    {
     "name": "stdout",
     "output_type": "stream",
     "text": [
      "Overwriting app.py\n"
     ]
    }
   ],
   "source": [
    "%%writefile app.py\n",
    "# app.py\n",
    "import streamlit as st\n",
    "import pandas as pd\n",
    "import matplotlib.pyplot as plt\n",
    "import seaborn as sns\n",
    "import pickle\n",
    "import os\n",
    "from sklearn.model_selection import train_test_split\n",
    "from sklearn.linear_model import LinearRegression\n",
    "\n",
    "# File paths\n",
    "csv_path = r\"C:\\Users\\uniq\\Downloads\\medical_insurance.csv\"\n",
    "model_path = r\"C:\\Users\\uniq\\Downloads\\insurance_model.pkl\"\n",
    "\n",
    "# Load dataset\n",
    "data = pd.read_csv(csv_path)\n",
    "\n",
    "# --- Load or Train Model ---\n",
    "if os.path.exists(model_path):\n",
    "    with open(model_path, 'rb') as file:\n",
    "        model = pickle.load(file)\n",
    "else:\n",
    "    st.warning(\"Model not found. Training a new model...\")\n",
    "    \n",
    "    # Preprocessing\n",
    "    data_encoded = pd.get_dummies(data, columns=['sex', 'smoker', 'region'], drop_first=True)\n",
    "    \n",
    "    # Split features and target\n",
    "    X = data_encoded.drop('charges', axis=1)\n",
    "    y = data_encoded['charges']\n",
    "    X_train, X_test, y_train, y_test = train_test_split(X, y, test_size=0.2, random_state=42)\n",
    "    \n",
    "    # Train model\n",
    "    model = LinearRegression()\n",
    "    model.fit(X_train, y_train)\n",
    "    \n",
    "    # Save model\n",
    "    with open(model_path, 'wb') as file:\n",
    "        pickle.dump(model, file)\n",
    "    st.success(\"Model trained and saved!\")\n",
    "\n",
    "# Streamlit App UI\n",
    "st.title(\"Medical Insurance Cost Prediction\")\n",
    "\n",
    "# --- EDA Section ---\n",
    "st.header(\"Exploratory Data Analysis Insights\")\n",
    "\n",
    "# Smoking vs Charges\n",
    "st.subheader(\"Impact of Smoking on Charges\")\n",
    "fig, ax = plt.subplots()\n",
    "sns.boxplot(x='smoker', y='charges', data=data, ax=ax)\n",
    "st.pyplot(fig)\n",
    "\n",
    "# Age vs Charges\n",
    "st.subheader(\"Impact of Age on Charges\")\n",
    "fig2, ax2 = plt.subplots()\n",
    "sns.scatterplot(x='age', y='charges', hue='smoker', data=data, ax=ax2)\n",
    "st.pyplot(fig2)\n",
    "\n",
    "# --- User Input Section ---\n",
    "st.header(\"Enter Your Details to Predict Insurance Cost\")\n",
    "\n",
    "age = st.number_input(\"Age\", min_value=18, max_value=100, value=30)\n",
    "gender = st.selectbox(\"Gender\", options=[\"male\", \"female\"])\n",
    "bmi = st.number_input(\"BMI\", min_value=10.0, max_value=50.0, value=25.0)\n",
    "children = st.number_input(\"Number of Children\", min_value=0, max_value=10, value=0)\n",
    "smoker = st.selectbox(\"Smoking Status\", options=[\"yes\", \"no\"])\n",
    "region = st.selectbox(\"Region\", options=[\"southwest\", \"southeast\", \"northwest\", \"northeast\"])\n",
    "\n",
    "# Prepare input for prediction\n",
    "input_df = pd.DataFrame({\n",
    "    'age': [age],\n",
    "    'sex': [gender],\n",
    "    'bmi': [bmi],\n",
    "    'children': [children],\n",
    "    'smoker': [smoker],\n",
    "    'region': [region]\n",
    "})\n",
    "\n",
    "# Encode categorical variables\n",
    "input_df = pd.get_dummies(input_df, columns=['sex', 'smoker', 'region'], drop_first=True)\n",
    "\n",
    "# Align input columns with model\n",
    "model_features = model.feature_names_in_\n",
    "input_df = input_df.reindex(columns=model_features, fill_value=0)\n",
    "\n",
    "# Prediction\n",
    "if st.button(\"Predict Insurance Cost\"):\n",
    "    prediction = model.predict(input_df)[0]\n",
    "    st.success(f\"Estimated Medical Insurance Cost: ${prediction:,.2f}\")\n"
   ]
  },
  {
   "cell_type": "code",
   "execution_count": null,
   "id": "9c2a70e3-7b80-44c8-97c4-948d1b1788a5",
   "metadata": {},
   "outputs": [],
   "source": [
    "with open(r\"C:\\Users\\uniq\\Documents\\insurance_model.pkl\", 'rb') as file:\n",
    "    model = pickle.load(file)"
   ]
  },
  {
   "cell_type": "code",
   "execution_count": null,
   "id": "aacc0272-3eab-4586-b1be-3d162bbef450",
   "metadata": {},
   "outputs": [],
   "source": [
    "!streamlit run app.py"
   ]
  },
  {
   "cell_type": "code",
   "execution_count": null,
   "id": "7391d401-bab0-488a-8459-303986e7d370",
   "metadata": {},
   "outputs": [],
   "source": [
    "\n"
   ]
  },
  {
   "cell_type": "code",
   "execution_count": null,
   "id": "fb84d0e8-d1bd-478a-a615-d6a618921863",
   "metadata": {},
   "outputs": [],
   "source": []
  }
 ],
 "metadata": {
  "kernelspec": {
   "display_name": "Python 3 (ipykernel)",
   "language": "python",
   "name": "python3"
  },
  "language_info": {
   "codemirror_mode": {
    "name": "ipython",
    "version": 3
   },
   "file_extension": ".py",
   "mimetype": "text/x-python",
   "name": "python",
   "nbconvert_exporter": "python",
   "pygments_lexer": "ipython3",
   "version": "3.13.5"
  }
 },
 "nbformat": 4,
 "nbformat_minor": 5
}
